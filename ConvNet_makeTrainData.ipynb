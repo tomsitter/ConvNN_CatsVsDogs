{
 "cells": [
  {
   "cell_type": "code",
   "execution_count": null,
   "metadata": {},
   "outputs": [],
   "source": [
    "'''\n",
    "'''We are using the MS Cats and Dog images training data\n",
    "# https://www.microsoft.com/en-us/download/details.aspx?id=54765\n",
    "# Images are saved to:\n",
    "# PetImages/Cat\n",
    "# PetImages/Dog\n",
    "# Data is being read in, converted to grey scale, and resized to 50x50 pixels\n",
    "# The labels are \"one-hot\" vectors.\n",
    "# np.eye(2)[0] => [0, 1] = dog\n",
    "# np.eye(2)[1] => [1, 0] = cat\n",
    "\n",
    "# The images are seperated into Test and Train sets and saved as\n",
    "# numpy files for easy loading."
   ]
  },
  {
   "cell_type": "code",
   "execution_count": 2,
   "metadata": {},
   "outputs": [
    {
     "name": "stderr",
     "output_type": "stream",
     "text": [
      "100%|███████████████████████████████████████████████████████████████████████████| 12501/12501 [00:12<00:00, 965.75it/s]\n",
      "100%|███████████████████████████████████████████████████████████████████████████| 12501/12501 [00:14<00:00, 888.00it/s]"
     ]
    },
    {
     "name": "stdout",
     "output_type": "stream",
     "text": [
      "Cats: {'train': 11218, 'test': 1258}\n",
      "Cat %: 10.08\n",
      "Dogs: {'train': 11155, 'test': 1315}\n",
      "Dog %: 10.55\n"
     ]
    },
    {
     "name": "stderr",
     "output_type": "stream",
     "text": [
      "\n"
     ]
    }
   ],
   "source": [
    "import os\n",
    "import cv2\n",
    "import numpy as np\n",
    "from numpy.random import random\n",
    "from tqdm import tqdm\n",
    "\n",
    "REBUILD_DATA = True\n",
    "\n",
    "class DogsVsCats():\n",
    "    img_size = 50\n",
    "    CATS = \"PetImages\\Cat\"\n",
    "    DOGS = \"PetImages\\Dog\"\n",
    "    labels = {CATS: [1,0], \n",
    "              DOGS: [0,1]}\n",
    "    testing_percent = 0.1\n",
    "    datasets = {\"train\": [], \"test\": []}\n",
    "    catcount = {\"train\": 0, \"test\": 0}\n",
    "    dogcount = {\"train\": 0, \"test\": 0}\n",
    "    \n",
    "    def make_training_data(self):\n",
    "        for label in self.labels:\n",
    "            for f in tqdm(os.listdir(label)):\n",
    "                try:\n",
    "                    path = os.path.join(label, f)\n",
    "\n",
    "                    img = cv2.imread(path, cv2.IMREAD_GRAYSCALE)\n",
    "                    img = cv2.resize(img, (self.img_size, self.img_size))\n",
    "                    # choose the dataset to assign the image (test or train)\n",
    "                    dataset = \"test\" if random() <= self.testing_percent  else \"train\"\n",
    "                    self.datasets[dataset].append([np.array(img), self.labels[label]])          \n",
    "                    # keep track of how many cats and dogs \n",
    "                    # to make sure we have balanced training data\n",
    "                    if label == self.CATS:\n",
    "                        self.catcount[dataset] += 1\n",
    "                    elif label == self.DOGS:\n",
    "                        self.dogcount[dataset] += 1\n",
    "                except Exception as e:\n",
    "                    # some of the images are known to be corrupt\n",
    "                    pass\n",
    "    \n",
    "        for dataset in self.datasets:\n",
    "            np.random.shuffle(self.datasets[dataset])\n",
    "            np.save(dataset + \"_data.npy\", self.datasets[dataset])\n",
    "\n",
    "        print(\"Cats:\", self.catcount)\n",
    "        print(\"Cat %:\", round(self.catcount[\"test\"] / sum(self.catcount.values()) * 100, 2))\n",
    "        print(\"Dogs:\", self.dogcount)\n",
    "        print(\"Dog %:\", round(self.dogcount[\"test\"] / sum(self.dogcount.values()) * 100, 2))\n",
    "    \n",
    "if REBUILD_DATA:\n",
    "    dogsvcats = DogsVsCats()\n",
    "    dogsvcats.make_training_data()"
   ]
  },
  {
   "cell_type": "code",
   "execution_count": 4,
   "metadata": {},
   "outputs": [
    {
     "data": {
      "text/plain": [
       "<matplotlib.image.AxesImage at 0x15122e43888>"
      ]
     },
     "execution_count": 4,
     "metadata": {},
     "output_type": "execute_result"
    },
    {
     "data": {
      "image/png": "[encoded data removed]",
      "text/plain": [
       "<Figure size 432x288 with 1 Axes>"
      ]
     },
     "metadata": {
      "needs_background": "light"
     },
     "output_type": "display_data"
    }
   ],
   "source": [
    "# Example image fed into the model\n",
    "%matplotlib inline\n",
    "import matplotlib.pyplot as plt\n",
    "\n",
    "img = DogsVsCats.datasets[\"train\"][0][0]\n",
    "plt.imshow(img, cma)"
   ]
  },
  {
   "cell_type": "code",
   "execution_count": null,
   "metadata": {},
   "outputs": [],
   "source": []
  }
 ],
 "metadata": {
  "kernelspec": {
   "display_name": "Python 3",
   "language": "python",
   "name": "python3"
  },
  "language_info": {
   "codemirror_mode": {
    "name": "ipython",
    "version": 3
   },
   "file_extension": ".py",
   "mimetype": "text/x-python",
   "name": "python",
   "nbconvert_exporter": "python",
   "pygments_lexer": "ipython3",
   "version": "3.7.7"
  }
 },
 "nbformat": 4,
 "nbformat_minor": 4
}
